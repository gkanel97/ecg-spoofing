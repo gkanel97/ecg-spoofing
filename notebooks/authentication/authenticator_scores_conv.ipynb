{
 "cells": [
  {
   "cell_type": "code",
   "execution_count": 1,
   "metadata": {},
   "outputs": [],
   "source": [
    "import pickle\n",
    "import numpy as np\n",
    "import matplotlib.pyplot as plt"
   ]
  },
  {
   "cell_type": "code",
   "execution_count": 2,
   "metadata": {},
   "outputs": [],
   "source": [
    "from sklearn.metrics import accuracy_score, f1_score, precision_score, recall_score"
   ]
  },
  {
   "cell_type": "code",
   "execution_count": 3,
   "metadata": {},
   "outputs": [],
   "source": [
    "pred_dict = {}"
   ]
  },
  {
   "cell_type": "code",
   "execution_count": 4,
   "metadata": {},
   "outputs": [],
   "source": [
    "with open('experiments/auth/conv/independent.pkl', 'rb') as f:\n",
    "    pred_dict['independent'] = pickle.load(f)"
   ]
  },
  {
   "cell_type": "code",
   "execution_count": 5,
   "metadata": {},
   "outputs": [],
   "source": [
    "with open('experiments/auth/conv_25/multidimensional.pkl', 'rb') as f:\n",
    "    pred_dict['multidimensional'] = pickle.load(f)"
   ]
  },
  {
   "cell_type": "code",
   "execution_count": 6,
   "metadata": {},
   "outputs": [],
   "source": [
    "with open('experiments/auth/conv_25/mixture.pkl', 'rb') as f:\n",
    "    pred_dict['mixture'] = pickle.load(f)"
   ]
  },
  {
   "cell_type": "code",
   "execution_count": 7,
   "metadata": {},
   "outputs": [],
   "source": [
    "def calculate_metric_confidence_interval(y_pred, y_true, n_samples=1000, sample_size=500):\n",
    "    tmp_metric_dict = {'accuracy': [], 'precision': [], 'recall': [], 'f1': []}\n",
    "    for _ in range(n_samples):\n",
    "        idx = np.random.choice(len(y_pred), sample_size, replace=True)\n",
    "        y_pred_sample = [y_pred[i] for i in idx]\n",
    "        y_true_sample = [y_true[i] for i in idx]\n",
    "        tmp_metric_dict['accuracy'].append(accuracy_score(y_true_sample, y_pred_sample))\n",
    "        tmp_metric_dict['precision'].append(precision_score(y_true_sample, y_pred_sample, average='macro', zero_division=0))\n",
    "        tmp_metric_dict['recall'].append(recall_score(y_true_sample, y_pred_sample, average='macro', zero_division=0))\n",
    "        tmp_metric_dict['f1'].append(f1_score(y_true_sample, y_pred_sample, average='macro', zero_division=0))\n",
    "\n",
    "    ret_metric_dict = {}\n",
    "    for metric, metric_arr in tmp_metric_dict.items():\n",
    "        ci_lower, ci_upper, mean = np.percentile(metric_arr, [2.5, 97.5, 50])\n",
    "        ret_metric_dict[metric] = (mean, ci_lower, ci_upper)\n",
    "    \n",
    "    return ret_metric_dict"
   ]
  },
  {
   "cell_type": "code",
   "execution_count": 8,
   "metadata": {},
   "outputs": [
    {
     "name": "stdout",
     "output_type": "stream",
     "text": [
      "Calculating confidence interval for independent with 1 votes\n",
      "Calculating confidence interval for independent with 3 votes\n",
      "Calculating confidence interval for independent with 5 votes\n",
      "Calculating confidence interval for independent with 10 votes\n",
      "Calculating confidence interval for multidimensional with 1 votes\n",
      "Calculating confidence interval for multidimensional with 3 votes\n",
      "Calculating confidence interval for multidimensional with 5 votes\n",
      "Calculating confidence interval for multidimensional with 10 votes\n",
      "Calculating confidence interval for mixture with 1 votes\n",
      "Calculating confidence interval for mixture with 3 votes\n",
      "Calculating confidence interval for mixture with 5 votes\n",
      "Calculating confidence interval for mixture with 10 votes\n"
     ]
    }
   ],
   "source": [
    "scores_arr = []\n",
    "for method, method_dict in pred_dict.items():\n",
    "    for votes_dict in method_dict:\n",
    "        print(f'Calculating confidence interval for {method} with {votes_dict[\"votes\"]} votes')\n",
    "        y_pred = votes_dict['y_pred']\n",
    "        y_true = votes_dict['y_true']\n",
    "        tmp_dict = calculate_metric_confidence_interval(y_pred, y_true)\n",
    "        tmp_dict['method'] = method\n",
    "        tmp_dict['votes'] = votes_dict['votes']\n",
    "        scores_arr.append(tmp_dict)"
   ]
  },
  {
   "cell_type": "code",
   "execution_count": 9,
   "metadata": {},
   "outputs": [
    {
     "data": {
      "text/plain": [
       "[{'accuracy': (0.222, 0.184, 0.256),\n",
       "  'precision': (0.1648817520738703, 0.1378004822000916, 0.1919589023678362),\n",
       "  'recall': (0.12443757852386035, 0.10509314861967302, 0.14788577983604345),\n",
       "  'f1': (0.13193123573929882, 0.11208842599110283, 0.15464178167541232),\n",
       "  'method': 'independent',\n",
       "  'votes': 1},\n",
       " {'accuracy': (0.232, 0.196, 0.27),\n",
       "  'precision': (0.17136653531469084, 0.14508319581958196, 0.19911253176353846),\n",
       "  'recall': (0.14127110081802915, 0.12057354188272405, 0.1622250608638153),\n",
       "  'f1': (0.14394065709660905, 0.12303835776875703, 0.1648616776644516),\n",
       "  'method': 'independent',\n",
       "  'votes': 3},\n",
       " {'accuracy': (0.266, 0.226, 0.306),\n",
       "  'precision': (0.1965536195914326, 0.17167883042761595, 0.22352551447283275),\n",
       "  'recall': (0.17128204406146452, 0.1505966453987917, 0.1922362017392855),\n",
       "  'f1': (0.17230805608580427, 0.15189213906713875, 0.19376387698363745),\n",
       "  'method': 'independent',\n",
       "  'votes': 5},\n",
       " {'accuracy': (0.314, 0.27395, 0.356),\n",
       "  'precision': (0.22754911530757396, 0.20402278291744105, 0.25276960259062037),\n",
       "  'recall': (0.21585221789624304, 0.19418479610945502, 0.239028159883629),\n",
       "  'f1': (0.211997049854437, 0.19055152796656158, 0.23409107845828822),\n",
       "  'method': 'independent',\n",
       "  'votes': 10},\n",
       " {'accuracy': (0.238, 0.206, 0.276),\n",
       "  'precision': (0.1713521238988665, 0.14620233901477528, 0.197592912418531),\n",
       "  'recall': (0.13236450821416124, 0.1132456546967089, 0.15363920360606467),\n",
       "  'f1': (0.13853615820297227, 0.11868210627826012, 0.15922382215761266),\n",
       "  'method': 'multidimensional',\n",
       "  'votes': 1},\n",
       " {'accuracy': (0.26, 0.222, 0.298),\n",
       "  'precision': (0.1856283019701387, 0.1594782568038029, 0.21160225339934802),\n",
       "  'recall': (0.15779815529815527, 0.13682698412698413, 0.17794463650551684),\n",
       "  'f1': (0.15870904251132167, 0.1370990924380804, 0.17953103312652413),\n",
       "  'method': 'multidimensional',\n",
       "  'votes': 3},\n",
       " {'accuracy': (0.302, 0.26195, 0.344),\n",
       "  'precision': (0.21174329690768035, 0.18684798293493945, 0.23601903012415923),\n",
       "  'recall': (0.18810939425237366, 0.16879064018464526, 0.20937969398916953),\n",
       "  'f1': (0.18972889158707873, 0.16916995406409985, 0.2109358052889842),\n",
       "  'method': 'multidimensional',\n",
       "  'votes': 5},\n",
       " {'accuracy': (0.326, 0.286, 0.366),\n",
       "  'precision': (0.2286320578613812, 0.20452555477652065, 0.2518907986667652),\n",
       "  'recall': (0.22174058341254752, 0.20048009071388712, 0.2442165420098514),\n",
       "  'f1': (0.21508470492702209, 0.19416264386245072, 0.23760955795059485),\n",
       "  'method': 'multidimensional',\n",
       "  'votes': 10},\n",
       " {'accuracy': (0.296, 0.256, 0.342),\n",
       "  'precision': (0.2107981782614892, 0.1846322056511636, 0.24142737535949454),\n",
       "  'recall': (0.1745322698397132, 0.15215338341914467, 0.19831107295642852),\n",
       "  'f1': (0.17873710838906917, 0.1566798846756141, 0.20385336951408378),\n",
       "  'method': 'mixture',\n",
       "  'votes': 1},\n",
       " {'accuracy': (0.312, 0.272, 0.35),\n",
       "  'precision': (0.22072431100656428, 0.19328103936305335, 0.2483659772206316),\n",
       "  'recall': (0.1927451814058957, 0.16867793615817664, 0.21566211561258328),\n",
       "  'f1': (0.19317023581546455, 0.16941181540258296, 0.21620444465991726),\n",
       "  'method': 'mixture',\n",
       "  'votes': 3},\n",
       " {'accuracy': (0.326, 0.28795, 0.374),\n",
       "  'precision': (0.22787400455803491, 0.20304381156576365, 0.2543090234000336),\n",
       "  'recall': (0.20707110319842567, 0.18466286517130767, 0.23154452375465892),\n",
       "  'f1': (0.20491817377176824, 0.1840882197304611, 0.22894265723494645),\n",
       "  'method': 'mixture',\n",
       "  'votes': 5},\n",
       " {'accuracy': (0.338, 0.29795, 0.38004999999999994),\n",
       "  'precision': (0.23719608306348322, 0.214227237654321, 0.2616589520806663),\n",
       "  'recall': (0.2261546015712682, 0.20357741957285755, 0.2505552932846166),\n",
       "  'f1': (0.22133744996671786, 0.19918212931224083, 0.24496660848820362),\n",
       "  'method': 'mixture',\n",
       "  'votes': 10}]"
      ]
     },
     "execution_count": 9,
     "metadata": {},
     "output_type": "execute_result"
    }
   ],
   "source": [
    "scores_arr"
   ]
  },
  {
   "cell_type": "code",
   "execution_count": 13,
   "metadata": {},
   "outputs": [],
   "source": [
    "def plot_metric_with_confidence_intervals(ax, scores_arr, metric, metric_label):\n",
    "\n",
    "    # fig, ax = plt.subplots()\n",
    "    idx_dict = {\n",
    "        1: 0.5,\n",
    "        3: 1.5,\n",
    "        5: 2.5,\n",
    "        10: 3.5,\n",
    "    }\n",
    "    color_dict = {\n",
    "        'independent': 'tab:blue',\n",
    "        'multidimensional': 'darkgoldenrod',\n",
    "        'mixture': 'silver',\n",
    "    }\n",
    "    methods_in_legend = set()\n",
    "    for s in scores_arr:\n",
    "        mean = s[metric][0]\n",
    "        ci_lower = s[metric][1]\n",
    "        ci_upper = s[metric][2]\n",
    "        y_idx = idx_dict[s['votes']]\n",
    "        color = color_dict[s['method']]\n",
    "        if s['method'] not in methods_in_legend:\n",
    "            methods_in_legend.add(s['method'])\n",
    "            ax.barh(y_idx, mean, xerr=[[mean - ci_lower], [ci_upper - mean]], capsize=3, label=s['method'], color=color, height=0.25)\n",
    "        else:\n",
    "            ax.barh(y_idx, mean, xerr=[[mean - ci_lower], [ci_upper - mean]], capsize=3, color=color, height=0.25)\n",
    "        idx_dict[s['votes']] += 0.25\n",
    "\n",
    "    ax.set_yticks(np.arange(0.75, 4, 1))\n",
    "    ax.set_yticklabels([1, 3, 5, 10])\n",
    "    ax.set_xlabel(metric_label, fontsize=12)"
   ]
  },
  {
   "cell_type": "code",
   "execution_count": 14,
   "metadata": {},
   "outputs": [
    {
     "data": {
      "image/png": "[encoded data removed]",
      "text/plain": [
       "<Figure size 1000x800 with 4 Axes>"
      ]
     },
     "metadata": {},
     "output_type": "display_data"
    }
   ],
   "source": [
    "fig, ax = plt.subplots(2, 2, figsize=(10, 8), constrained_layout=True, sharey=True, gridspec_kw={'hspace': 0.1})\n",
    "plot_metric_with_confidence_intervals(ax[0][0], scores_arr, 'accuracy', 'Accuracy')\n",
    "plot_metric_with_confidence_intervals(ax[0][1], scores_arr, 'precision', 'Precision')\n",
    "plot_metric_with_confidence_intervals(ax[1][0], scores_arr, 'recall', 'Recall')\n",
    "plot_metric_with_confidence_intervals(ax[1][1], scores_arr, 'f1', 'F1')\n",
    "ax[0,0].set_ylabel('Majority votes', fontsize=12)\n",
    "ax[1,0].set_ylabel('Majority votes', fontsize=12)\n",
    "handles, labels = ax[0][0].get_legend_handles_labels()\n",
    "fig.legend(handles, labels, loc='upper center', ncol=3, bbox_to_anchor=(0.5, 1.05))\n",
    "fig.savefig('figures/conv_relu/metrics.pdf', bbox_inches='tight')\n",
    "plt.show()"
   ]
  },
  {
   "cell_type": "code",
   "execution_count": null,
   "metadata": {},
   "outputs": [],
   "source": []
  }
 ],
 "metadata": {
  "kernelspec": {
   "display_name": ".venv",
   "language": "python",
   "name": "python3"
  },
  "language_info": {
   "codemirror_mode": {
    "name": "ipython",
    "version": 3
   },
   "file_extension": ".py",
   "mimetype": "text/x-python",
   "name": "python",
   "nbconvert_exporter": "python",
   "pygments_lexer": "ipython3",
   "version": "3.10.12"
  }
 },
 "nbformat": 4,
 "nbformat_minor": 2
}
