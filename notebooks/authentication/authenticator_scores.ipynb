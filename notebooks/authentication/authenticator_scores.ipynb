{
 "cells": [
  {
   "cell_type": "code",
   "execution_count": 2,
   "metadata": {},
   "outputs": [],
   "source": [
    "import pickle\n",
    "import numpy as np\n",
    "import matplotlib.pyplot as plt"
   ]
  },
  {
   "cell_type": "code",
   "execution_count": 60,
   "metadata": {},
   "outputs": [],
   "source": [
    "from sklearn.metrics import accuracy_score, f1_score, precision_score, recall_score"
   ]
  },
  {
   "cell_type": "code",
   "execution_count": 3,
   "metadata": {},
   "outputs": [],
   "source": [
    "pred_dict = {}"
   ]
  },
  {
   "cell_type": "code",
   "execution_count": 4,
   "metadata": {},
   "outputs": [],
   "source": [
    "with open('experiments/auth/dense_leaky/independent.pkl', 'rb') as f:\n",
    "    pred_dict['independent'] = pickle.load(f)"
   ]
  },
  {
   "cell_type": "code",
   "execution_count": 11,
   "metadata": {},
   "outputs": [],
   "source": [
    "with open('experiments/auth/dense_leaky/multidimensional.pkl', 'rb') as f:\n",
    "    pred_dict['multidimensional'] = pickle.load(f)"
   ]
  },
  {
   "cell_type": "code",
   "execution_count": 12,
   "metadata": {},
   "outputs": [],
   "source": [
    "with open('experiments/auth/dense_leaky/mixture.pkl', 'rb') as f:\n",
    "    pred_dict['mixture'] = pickle.load(f)"
   ]
  },
  {
   "cell_type": "code",
   "execution_count": 66,
   "metadata": {},
   "outputs": [],
   "source": [
    "def calculate_metric_confidence_interval(y_pred, y_true, n_samples=1000, sample_size=500):\n",
    "    tmp_metric_dict = {'accuracy': [], 'precision': [], 'recall': [], 'f1': []}\n",
    "    for _ in range(n_samples):\n",
    "        idx = np.random.choice(len(y_pred), sample_size, replace=True)\n",
    "        y_pred_sample = [y_pred[i] for i in idx]\n",
    "        y_true_sample = [y_true[i] for i in idx]\n",
    "        tmp_metric_dict['accuracy'].append(accuracy_score(y_true_sample, y_pred_sample))\n",
    "        tmp_metric_dict['precision'].append(precision_score(y_true_sample, y_pred_sample, average='macro', zero_division=0))\n",
    "        tmp_metric_dict['recall'].append(recall_score(y_true_sample, y_pred_sample, average='macro', zero_division=0))\n",
    "        tmp_metric_dict['f1'].append(f1_score(y_true_sample, y_pred_sample, average='macro', zero_division=0))\n",
    "\n",
    "    ret_metric_dict = {}\n",
    "    for metric, metric_arr in tmp_metric_dict.items():\n",
    "        ci_lower, ci_upper, mean = np.percentile(metric_arr, [2.5, 97.5, 50])\n",
    "        ret_metric_dict[metric] = (mean, ci_lower, ci_upper)\n",
    "    \n",
    "    return ret_metric_dict"
   ]
  },
  {
   "cell_type": "code",
   "execution_count": 81,
   "metadata": {},
   "outputs": [
    {
     "name": "stdout",
     "output_type": "stream",
     "text": [
      "Calculating confidence interval for independent with 1 votes\n",
      "Calculating confidence interval for independent with 3 votes\n",
      "Calculating confidence interval for independent with 5 votes\n",
      "Calculating confidence interval for independent with 10 votes\n",
      "Calculating confidence interval for multidimensional with 1 votes\n",
      "Calculating confidence interval for multidimensional with 3 votes\n",
      "Calculating confidence interval for multidimensional with 5 votes\n",
      "Calculating confidence interval for multidimensional with 10 votes\n",
      "Calculating confidence interval for mixture with 1 votes\n",
      "Calculating confidence interval for mixture with 3 votes\n",
      "Calculating confidence interval for mixture with 5 votes\n",
      "Calculating confidence interval for mixture with 10 votes\n"
     ]
    }
   ],
   "source": [
    "scores_arr = []\n",
    "for method, method_dict in pred_dict.items():\n",
    "    for votes_dict in method_dict:\n",
    "        print(f'Calculating confidence interval for {method} with {votes_dict[\"votes\"]} votes')\n",
    "        y_pred = votes_dict['y_pred']\n",
    "        y_true = votes_dict['y_true']\n",
    "        tmp_dict = calculate_metric_confidence_interval(y_pred, y_true)\n",
    "        tmp_dict['method'] = method\n",
    "        tmp_dict['votes'] = votes_dict['votes']\n",
    "        scores_arr.append(tmp_dict)"
   ]
  },
  {
   "cell_type": "code",
   "execution_count": 82,
   "metadata": {},
   "outputs": [
    {
     "data": {
      "text/plain": [
       "[{'accuracy': (0.848, 0.81595, 0.87605),\n",
       "  'precision': (0.7233947407066876, 0.6804235941352742, 0.7665133647798742),\n",
       "  'recall': (0.6839903445249067, 0.6390732758620689, 0.7300988578632914),\n",
       "  'f1': (0.6930816969422824, 0.6502068160527212, 0.7381450492879869),\n",
       "  'method': 'independent',\n",
       "  'votes': 1},\n",
       " {'accuracy': (0.872, 0.842, 0.9),\n",
       "  'precision': (0.7726944420057651, 0.7339553990610329, 0.8124473784921546),\n",
       "  'recall': (0.7478292280447556, 0.7084443882641431, 0.7902722558872796),\n",
       "  'f1': (0.7515119701726845, 0.7139215436031475, 0.793257263136126),\n",
       "  'method': 'independent',\n",
       "  'votes': 3},\n",
       " {'accuracy': (0.892, 0.866, 0.916),\n",
       "  'precision': (0.8003434207656073, 0.7669879240904727, 0.8340788028629287),\n",
       "  'recall': (0.7839039157538943, 0.7514338961295419, 0.8215003401360544),\n",
       "  'f1': (0.7861803723679168, 0.7534316177503381, 0.8219849637455331),\n",
       "  'method': 'independent',\n",
       "  'votes': 5},\n",
       " {'accuracy': (0.912, 0.888, 0.936),\n",
       "  'precision': (0.8349623115577889, 0.81063609593718, 0.8620657552083333),\n",
       "  'recall': (0.8311427748992516, 0.8070564627041084, 0.8598180662943871),\n",
       "  'f1': (0.8303872053872055, 0.8064491943241943, 0.8585954304665242),\n",
       "  'method': 'independent',\n",
       "  'votes': 10},\n",
       " {'accuracy': (0.844, 0.812, 0.874),\n",
       "  'precision': (0.7272516698987288, 0.684999255952381, 0.7704265647649337),\n",
       "  'recall': (0.6813560348077695, 0.6369399721095335, 0.7268604651162789),\n",
       "  'f1': (0.6923615364372622, 0.6506359095025761, 0.7356047766429307),\n",
       "  'method': 'multidimensional',\n",
       "  'votes': 1},\n",
       " {'accuracy': (0.878, 0.846, 0.904),\n",
       "  'precision': (0.7713372112129877, 0.7355959289688749, 0.8059321599453179),\n",
       "  'recall': (0.7499422936474436, 0.7096635754499608, 0.7885447910000237),\n",
       "  'f1': (0.7534986880878142, 0.7149403659124653, 0.7898194920331619),\n",
       "  'method': 'multidimensional',\n",
       "  'votes': 3},\n",
       " {'accuracy': (0.892, 0.864, 0.92),\n",
       "  'precision': (0.8040828481862965, 0.774718545475062, 0.8345180671304309),\n",
       "  'recall': (0.789643728264657, 0.7597653950802377, 0.8226876143338291),\n",
       "  'f1': (0.7909248464528993, 0.761862236803989, 0.8231778590395858),\n",
       "  'method': 'multidimensional',\n",
       "  'votes': 5},\n",
       " {'accuracy': (0.91, 0.886, 0.934),\n",
       "  'precision': (0.8354531778222669, 0.8099244648869648, 0.8645830509522104),\n",
       "  'recall': (0.8295852589842665, 0.8045137830307828, 0.8602283112886929),\n",
       "  'f1': (0.8287800110079903, 0.8041613151481443, 0.8596320538208835),\n",
       "  'method': 'multidimensional',\n",
       "  'votes': 10},\n",
       " {'accuracy': (0.868, 0.838, 0.894),\n",
       "  'precision': (0.7589258262971947, 0.7162247504545136, 0.7982966366158115),\n",
       "  'recall': (0.7262534795069041, 0.6805815925968057, 0.7683893538363838),\n",
       "  'f1': (0.7334967648503976, 0.686894419478405, 0.7734294294749902),\n",
       "  'method': 'mixture',\n",
       "  'votes': 1},\n",
       " {'accuracy': (0.882, 0.852, 0.908),\n",
       "  'precision': (0.7846626984126983, 0.7518924159286356, 0.8225643774231232),\n",
       "  'recall': (0.7613868893260605, 0.7247869588112736, 0.8015939243583612),\n",
       "  'f1': (0.7651830250824803, 0.7294154329099767, 0.8034120098545509),\n",
       "  'method': 'mixture',\n",
       "  'votes': 3},\n",
       " {'accuracy': (0.89, 0.86195, 0.916),\n",
       "  'precision': (0.8035419453851192, 0.7698467407696731, 0.8374399287832123),\n",
       "  'recall': (0.7848631239935588, 0.7495160558780841, 0.8200982100761097),\n",
       "  'f1': (0.7868865657841575, 0.7517890286796536, 0.8222181396836281),\n",
       "  'method': 'mixture',\n",
       "  'votes': 5},\n",
       " {'accuracy': (0.894, 0.866, 0.916),\n",
       "  'precision': (0.8080264240590328, 0.7758879449838186, 0.8386485082611725),\n",
       "  'recall': (0.793105923707206, 0.760189654382105, 0.8255053278515484),\n",
       "  'f1': (0.7951301880424093, 0.7618541955617198, 0.8265452779086199),\n",
       "  'method': 'mixture',\n",
       "  'votes': 10}]"
      ]
     },
     "execution_count": 82,
     "metadata": {},
     "output_type": "execute_result"
    }
   ],
   "source": [
    "scores_arr"
   ]
  },
  {
   "cell_type": "code",
   "execution_count": 165,
   "metadata": {},
   "outputs": [],
   "source": [
    "def plot_metric_with_confidence_intervals(ax, scores_arr, metric, metric_label):\n",
    "\n",
    "    # fig, ax = plt.subplots()\n",
    "    idx_dict = {\n",
    "        1: 0.5,\n",
    "        3: 1.5,\n",
    "        5: 2.5,\n",
    "        10: 3.5,\n",
    "    }\n",
    "    color_dict = {\n",
    "        'independent': 'tab:blue',\n",
    "        'multidimensional': 'darkgoldenrod',\n",
    "        'mixture': 'silver',\n",
    "    }\n",
    "    methods_in_legend = set()\n",
    "    for s in scores_arr:\n",
    "        mean = s[metric][0]\n",
    "        ci_lower = s[metric][1]\n",
    "        ci_upper = s[metric][2]\n",
    "        y_idx = idx_dict[s['votes']]\n",
    "        color = color_dict[s['method']]\n",
    "        if s['method'] not in methods_in_legend:\n",
    "            methods_in_legend.add(s['method'])\n",
    "            ax.barh(y_idx, mean, xerr=[[mean - ci_lower], [ci_upper - mean]], capsize=3, label=s['method'], color=color, height=0.25)\n",
    "        else:\n",
    "            ax.barh(y_idx, mean, xerr=[[mean - ci_lower], [ci_upper - mean]], capsize=3, color=color, height=0.25)\n",
    "        idx_dict[s['votes']] += 0.25\n",
    "\n",
    "    ax.set_yticks(np.arange(0.75, 4, 1))\n",
    "    ax.set_yticklabels([1, 3, 5, 10])\n",
    "    ax.set_xlabel(metric_label, fontsize=12)\n",
    "    ax.set_xlim(0.6, 0.95)"
   ]
  },
  {
   "cell_type": "code",
   "execution_count": 177,
   "metadata": {},
   "outputs": [
    {
     "data": {
      "image/png": "[encoded data removed]",
      "text/plain": [
       "<Figure size 1000x800 with 4 Axes>"
      ]
     },
     "metadata": {},
     "output_type": "display_data"
    }
   ],
   "source": [
    "fig, ax = plt.subplots(2, 2, figsize=(10, 8), constrained_layout=True, sharey=True, gridspec_kw={'hspace': 0.1})\n",
    "plot_metric_with_confidence_intervals(ax[0][0], scores_arr, 'accuracy', 'Accuracy')\n",
    "plot_metric_with_confidence_intervals(ax[0][1], scores_arr, 'precision', 'Precision')\n",
    "plot_metric_with_confidence_intervals(ax[1][0], scores_arr, 'recall', 'Recall')\n",
    "plot_metric_with_confidence_intervals(ax[1][1], scores_arr, 'f1', 'F1')\n",
    "ax[0,0].set_ylabel('Majority votes', fontsize=12)\n",
    "ax[1,0].set_ylabel('Majority votes', fontsize=12)\n",
    "handles, labels = ax[0][0].get_legend_handles_labels()\n",
    "fig.legend(handles, labels, loc='upper center', ncol=3, bbox_to_anchor=(0.5, 1.05))\n",
    "fig.savefig('figures/dense_leaky_relu/metrics.pdf', bbox_inches='tight')\n",
    "plt.show()"
   ]
  },
  {
   "cell_type": "code",
   "execution_count": null,
   "metadata": {},
   "outputs": [],
   "source": []
  }
 ],
 "metadata": {
  "kernelspec": {
   "display_name": ".venv",
   "language": "python",
   "name": "python3"
  },
  "language_info": {
   "codemirror_mode": {
    "name": "ipython",
    "version": 3
   },
   "file_extension": ".py",
   "mimetype": "text/x-python",
   "name": "python",
   "nbconvert_exporter": "python",
   "pygments_lexer": "ipython3",
   "version": "3.10.12"
  }
 },
 "nbformat": 4,
 "nbformat_minor": 2
}
