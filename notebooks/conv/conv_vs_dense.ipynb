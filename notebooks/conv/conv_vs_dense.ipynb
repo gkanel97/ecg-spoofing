{
 "cells": [
  {
   "cell_type": "code",
   "execution_count": 1,
   "metadata": {},
   "outputs": [],
   "source": [
    "import pickle\n",
    "import numpy as np\n",
    "from tqdm import tqdm\n",
    "import matplotlib.pyplot as plt"
   ]
  },
  {
   "cell_type": "code",
   "execution_count": 2,
   "metadata": {},
   "outputs": [
    {
     "name": "stderr",
     "output_type": "stream",
     "text": [
      "2024-07-29 16:58:10.678215: I tensorflow/core/util/port.cc:113] oneDNN custom operations are on. You may see slightly different numerical results due to floating-point round-off errors from different computation orders. To turn them off, set the environment variable `TF_ENABLE_ONEDNN_OPTS=0`.\n",
      "2024-07-29 16:58:11.910895: I tensorflow/core/platform/cpu_feature_guard.cc:210] This TensorFlow binary is optimized to use available CPU instructions in performance-critical operations.\n",
      "To enable the following instructions: AVX2 AVX_VNNI FMA, in other operations, rebuild TensorFlow with the appropriate compiler flags.\n",
      "2024-07-29 16:58:19.638730: W tensorflow/compiler/tf2tensorrt/utils/py_utils.cc:38] TF-TRT Warning: Could not find TensorRT\n"
     ]
    }
   ],
   "source": [
    "from keras.models import load_model"
   ]
  },
  {
   "cell_type": "code",
   "execution_count": 3,
   "metadata": {},
   "outputs": [
    {
     "name": "stderr",
     "output_type": "stream",
     "text": [
      "2024-07-29 16:58:33.018437: I external/local_xla/xla/stream_executor/cuda/cuda_executor.cc:998] successful NUMA node read from SysFS had negative value (-1), but there must be at least one NUMA node, so returning NUMA node zero. See more at https://github.com/torvalds/linux/blob/v6.0/Documentation/ABI/testing/sysfs-bus-pci#L344-L355\n",
      "2024-07-29 16:58:33.064940: W tensorflow/core/common_runtime/gpu/gpu_device.cc:2251] Cannot dlopen some GPU libraries. Please make sure the missing libraries mentioned above are installed properly if you would like to use GPU. Follow the guide at https://www.tensorflow.org/install/gpu for how to download and setup the required libraries for your platform.\n",
      "Skipping registering GPU devices...\n"
     ]
    }
   ],
   "source": [
    "conv_model = load_model('../../models/conv/ReLU_BatchNorm_MaxPooling_FiveLayers.keras')"
   ]
  },
  {
   "cell_type": "code",
   "execution_count": 4,
   "metadata": {},
   "outputs": [],
   "source": [
    "dense_model = load_model('../../models/dense/ReLU_TwoLayers.keras')"
   ]
  },
  {
   "cell_type": "code",
   "execution_count": 5,
   "metadata": {},
   "outputs": [],
   "source": [
    "import sys\n",
    "sys.path.append('../../') # Append the path to the root of the project to sys.path"
   ]
  },
  {
   "cell_type": "code",
   "execution_count": 6,
   "metadata": {},
   "outputs": [],
   "source": [
    "from src.authentication import EcgAuthenticator\n",
    "from src.modelling.generator.ecg_generator_independent import EcgGeneratorIndependent"
   ]
  },
  {
   "cell_type": "code",
   "execution_count": 7,
   "metadata": {},
   "outputs": [],
   "source": [
    "with open('../../data/processed/autoencoder_data.pkl', 'rb') as f:\n",
    "    data = pickle.load(f)\n",
    "\n",
    "X_train = np.array(data['X_train'])\n",
    "X_test = np.array(data['X_test'])\n",
    "X_val = np.array(data['X_val'])\n",
    "y_test = set(data['y_test'])\n",
    "y_train = set(data['y_train'])\n",
    "y_val = set(data['y_val'])"
   ]
  },
  {
   "cell_type": "code",
   "execution_count": 8,
   "metadata": {},
   "outputs": [
    {
     "name": "stderr",
     "output_type": "stream",
     "text": [
      "/users/pgrad/kanellog/Documents/Dissertation/.venv/lib/python3.10/site-packages/keras/src/saving/saving_lib.py:415: UserWarning: Skipping variable loading for optimizer 'rmsprop', because it has 28 variables whereas the saved optimizer has 54 variables. \n",
      "  saveable.load_own_variables(weights_store.get(inner_path))\n"
     ]
    }
   ],
   "source": [
    "test_user_ids = list(set(y_test))\n",
    "authenticator = EcgAuthenticator()"
   ]
  },
  {
   "cell_type": "code",
   "execution_count": 9,
   "metadata": {},
   "outputs": [],
   "source": [
    "pred_arr = []"
   ]
  },
  {
   "cell_type": "code",
   "execution_count": 10,
   "metadata": {},
   "outputs": [
    {
     "name": "stderr",
     "output_type": "stream",
     "text": [
      "  0%|          | 0/194 [00:00<?, ?it/s]WARNING: All log messages before absl::InitializeLog() is called are written to STDERR\n",
      "I0000 00:00:1722268737.756961 1210945 service.cc:145] XLA service 0x7f044800e7f0 initialized for platform Host (this does not guarantee that XLA will be used). Devices:\n",
      "I0000 00:00:1722268737.756986 1210945 service.cc:153]   StreamExecutor device (0): Host, Default Version\n",
      "2024-07-29 16:58:57.764772: I tensorflow/compiler/mlir/tensorflow/utils/dump_mlir_util.cc:268] disabling MLIR crash reproducer, set env var `MLIR_CRASH_REPRODUCER_DIRECTORY` to enable.\n",
      "I0000 00:00:1722268737.868605 1210945 device_compiler.h:188] Compiled cluster using XLA!  This line is logged at most once for the lifetime of the process.\n",
      "100%|██████████| 194/194 [02:25<00:00,  1.33it/s]\n"
     ]
    }
   ],
   "source": [
    "generator = EcgGeneratorIndependent(\n",
    "    model_path=f'../../models/dense/LeakyReLU_BatchNorm_ThreeLayers_25.keras',\n",
    "    n_samples=30\n",
    ")\n",
    "y_true, y_pred = [], []\n",
    "pbar = tqdm(total=len(test_user_ids))\n",
    "for user_id in test_user_ids:\n",
    "    try:\n",
    "        synthetic_templates = generator.generate_synthetic_signals(user_id)\n",
    "        if synthetic_templates is not None:\n",
    "            pred_user_id = authenticator.identify(synthetic_templates, majority_votes=10)\n",
    "            y_true.extend([user_id]*len(pred_user_id))\n",
    "            y_pred.extend(pred_user_id)\n",
    "    except Exception as e:\n",
    "        print(f'Error processing user {user_id}: {e}')\n",
    "    finally:\n",
    "        pbar.update(1)\n",
    "pbar.close()\n",
    "pred_arr.append({\n",
    "    'model': 'dense_relu_two_layers',\n",
    "    'y_true': y_true,\n",
    "    'y_pred': y_pred\n",
    "})"
   ]
  },
  {
   "cell_type": "code",
   "execution_count": 11,
   "metadata": {},
   "outputs": [
    {
     "name": "stderr",
     "output_type": "stream",
     "text": [
      "100%|██████████| 194/194 [02:29<00:00,  1.30it/s]\n"
     ]
    }
   ],
   "source": [
    "generator = EcgGeneratorIndependent(\n",
    "    model_path=f'../../models/conv/ReLU_BatchNorm_MaxPooling_FiveLayers.keras',\n",
    "    n_samples=30\n",
    ")\n",
    "y_true, y_pred = [], []\n",
    "pbar = tqdm(total=len(test_user_ids))\n",
    "for user_id in test_user_ids:\n",
    "    try:\n",
    "        synthetic_templates = generator.generate_synthetic_signals(user_id)\n",
    "        if synthetic_templates is not None:\n",
    "            pred_user_id = authenticator.identify(synthetic_templates, majority_votes=10)\n",
    "            y_true.extend([user_id]*len(pred_user_id))\n",
    "            y_pred.extend(pred_user_id)\n",
    "    except Exception as e:\n",
    "        print(f'Error processing user {user_id}: {e}')\n",
    "    finally:\n",
    "        pbar.update(1)\n",
    "pbar.close()\n",
    "pred_arr.append({\n",
    "    'model': 'conv_five_layers',\n",
    "    'y_true': y_true,\n",
    "    'y_pred': y_pred\n",
    "})"
   ]
  },
  {
   "cell_type": "code",
   "execution_count": 12,
   "metadata": {},
   "outputs": [
    {
     "name": "stdout",
     "output_type": "stream",
     "text": [
      "\u001b[1m607/607\u001b[0m \u001b[32m━━━━━━━━━━━━━━━━━━━━\u001b[0m\u001b[37m\u001b[0m \u001b[1m0s\u001b[0m 625us/step\n"
     ]
    }
   ],
   "source": [
    "y_pred = dense_model.predict(X_test)\n",
    "reconstruction_errors = np.mean(np.square(y_pred - X_test), axis=1)\n",
    "pred_arr[0]['reconstruction_errors'] = reconstruction_errors"
   ]
  },
  {
   "cell_type": "code",
   "execution_count": 13,
   "metadata": {},
   "outputs": [
    {
     "name": "stdout",
     "output_type": "stream",
     "text": [
      "\u001b[1m607/607\u001b[0m \u001b[32m━━━━━━━━━━━━━━━━━━━━\u001b[0m\u001b[37m\u001b[0m \u001b[1m1s\u001b[0m 2ms/step\n"
     ]
    }
   ],
   "source": [
    "y_pred = conv_model.predict(X_test)\n",
    "reconstruction_errors = np.mean(np.square(y_pred - X_test), axis=1)\n",
    "pred_arr[1]['reconstruction_errors'] = reconstruction_errors"
   ]
  },
  {
   "cell_type": "code",
   "execution_count": 14,
   "metadata": {},
   "outputs": [],
   "source": [
    "with open('../../experiments/dense_vs_conv.pkl', 'wb') as f:\n",
    "    pickle.dump(pred_arr, f)"
   ]
  },
  {
   "cell_type": "code",
   "execution_count": 14,
   "metadata": {},
   "outputs": [],
   "source": [
    "def calculate_accuracy_confidence_interval(y_pred, y_true, n_samples=1000, sample_size=500):\n",
    "    observation_arr = []\n",
    "    for _ in range(n_samples):\n",
    "        idx = np.random.choice(len(y_pred), sample_size, replace=True)\n",
    "        y_pred_sample = [y_pred[i] for i in idx]\n",
    "        y_true_sample = [y_true[i] for i in idx]\n",
    "        observation_arr.append(\n",
    "            np.mean(np.array(y_pred_sample) == np.array(y_true_sample))\n",
    "        )\n",
    "    ci_lower, ci_upper, mean = np.percentile(observation_arr, [2.5, 97.5, 50])\n",
    "    return ci_lower, ci_upper, mean"
   ]
  },
  {
   "cell_type": "code",
   "execution_count": 15,
   "metadata": {},
   "outputs": [
    {
     "data": {
      "image/png": "[encoded data removed]",
      "text/plain": [
       "<Figure size 450x350 with 2 Axes>"
      ]
     },
     "metadata": {},
     "output_type": "display_data"
    }
   ],
   "source": [
    "fig, ax = plt.subplots(figsize=(4.5, 3.5))\n",
    "\n",
    "accuracy_arr = []\n",
    "for i, err in enumerate(pred_arr):\n",
    "    y_true = err['y_true']\n",
    "    y_pred = err['y_pred']\n",
    "    accuracy_arr.append(\n",
    "        calculate_accuracy_confidence_interval(y_pred, y_true)\n",
    "    )\n",
    "\n",
    "x_arr = np.arange(len(pred_arr))\n",
    "y_arr = [acc[2] for acc in accuracy_arr]\n",
    "y_err = [(acc[2] - acc[0], acc[1] - acc[2]) for acc in accuracy_arr]\n",
    "ax.bar(x_arr, y_arr, yerr=np.array(y_err).T, label='Accuracy (95% CI)', color='tab:blue', width=0.4, linewidth=1.2, capsize=3)\n",
    "# ax.errorbar(x_arr, y_arr, yerr=np.array(y_err).T, fmt='--o', label='Accuracy', linewidth=1.2, capsize=3)\n",
    "\n",
    "tw_ax = ax.twinx()\n",
    "for i, e in enumerate(pred_arr):\n",
    "    err = e['reconstruction_errors']\n",
    "    mean_err, q1, q3 = np.mean(err), np.percentile(err, 25), np.percentile(err, 75)\n",
    "    y_err = [(mean_err - q1, q3 - mean_err)]\n",
    "    if i == 0:\n",
    "        tw_ax.bar(i+0.4, mean_err, width=0.4, color='goldenrod', label='Mean reconstruction error')\n",
    "    else:\n",
    "        tw_ax.bar(i+0.4, mean_err, width=0.4, color='goldenrod') #, yerr=np.array(y_err).T, linewidth=1.2, capsize=3)\n",
    "tw_ax.set_ylabel('Reconstruction error', fontsize=12)\n",
    "\n",
    "ax.set_xticks(x_arr + 0.2)\n",
    "ax.set_xticklabels(['Dense', 'Conv1D'], fontsize=11)\n",
    "ax.set_xlabel('Type of Layers', fontsize=12)\n",
    "ax.set_ylabel('Authenticator accuracy', fontsize=12)\n",
    "\n",
    "fig.legend(ncols=2, loc='upper center', fontsize=11, bbox_to_anchor=(0.55, 1.02))\n",
    "\n",
    "fig.savefig('../../figures/model_architecture/dense_vs_conv.pdf', bbox_inches='tight', transparent=True)\n",
    "plt.show()"
   ]
  },
  {
   "cell_type": "code",
   "execution_count": null,
   "metadata": {},
   "outputs": [],
   "source": []
  }
 ],
 "metadata": {
  "kernelspec": {
   "display_name": ".venv",
   "language": "python",
   "name": "python3"
  },
  "language_info": {
   "codemirror_mode": {
    "name": "ipython",
    "version": 3
   },
   "file_extension": ".py",
   "mimetype": "text/x-python",
   "name": "python",
   "nbconvert_exporter": "python",
   "pygments_lexer": "ipython3",
   "version": "3.10.12"
  }
 },
 "nbformat": 4,
 "nbformat_minor": 2
}
